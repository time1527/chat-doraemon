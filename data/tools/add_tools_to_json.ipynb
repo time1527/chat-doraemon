{
 "cells": [
  {
   "cell_type": "code",
   "execution_count": 1,
   "metadata": {},
   "outputs": [],
   "source": [
    "import json\n",
    "\n",
    "def save(name,path):\n",
    "    with open(path, 'w', encoding='utf-8') as json_file:\n",
    "        json.dump(name, json_file, ensure_ascii=False, indent=4)"
   ]
  },
  {
   "cell_type": "code",
   "execution_count": 18,
   "metadata": {},
   "outputs": [],
   "source": [
    "BambooCopter = {\"name\": \"竹蜻蜓\", \n",
    " \"image_path\": \"data/tools/content/bamboo_copter.webp\", \n",
    " \"use\": \"竹蜻蜓的使用方法简单，只需把它戴在头上就可以通过大脑意念随意控制飞行，可任意随使用者想法以任何方向与动作飞行，不需要额外的动力。只要把它放置在身体任何一处，（最常用的是在头顶）就能够以80公里的时速连续在空中飞行8小时（某些情况是4小时），没电时，休息20个小时还可以继续使用。竹蜻蜓不仅可以在空中使用，也可以在水中（即使在高水压的地方）使用。\",\n",
    " \"limit\":\"在暴风雨中使用会因抵挡不住强风而被吹飞，在极度低温下电池可能会因为冷却而无法正常工作。\",\n",
    " \"other\":\"哆啦A梦用的竹蜻蜓是黄色，哆啦美用的竹蜻蜓是粉红色。\",\n",
    " \"theory\":\"竹蜻蜓的设计原理并非是直升机的原理，而是内有反重力装置，在人体周围形成一块反重力场。所以放在身体哪一处都没有问题。不过习惯上它都是放在头上（因为能保持站立或俯卧的姿势）。\",\n",
    " \"reference\":[\"https://doraemon.fandom.com/zh/wiki/%E7%AB%B9%E8%9C%BB%E8%9C%93\",\n",
    "              \"https://baike.baidu.com/item/%E7%AB%B9%E8%9C%BB%E8%9C%93/9536826?lemmaFrom=lemma_starMap&fromModule=lemma_starMap&starNodeId=8a0f5539fd6403e5f74f8728&lemmaIdFrom=185384\",\n",
    "              \"https://static.wikia.nocookie.net/doraemon/images/8/81/%E7%AB%B9%E8%9C%BB%E8%9C%93%28%E5%A4%A7%E5%B1%B1%E7%89%88%E5%89%8D%E6%9C%9F%29.jpg/revision/latest?cb=20170205130247&path-prefix=zh-tw\"\n",
    "              ]}\n",
    "save(BambooCopter,\"BambooCopter.json\")"
   ]
  },
  {
   "cell_type": "code",
   "execution_count": 8,
   "metadata": {},
   "outputs": [
    {
     "name": "stdout",
     "output_type": "stream",
     "text": [
      "name\n",
      "image_path\n",
      "use\n",
      "limit\n",
      "other\n",
      "theory\n",
      "reference\n"
     ]
    }
   ],
   "source": [
    "for k,v in BambooCopter.items():\n",
    "    print(k)"
   ]
  },
  {
   "cell_type": "code",
   "execution_count": 17,
   "metadata": {},
   "outputs": [],
   "source": [
    "MakeSmallerLight = {\n",
    "    \"name\":\"缩小灯\",\n",
    "    \"image_path\":\"data/tools/content/make_smaller_light.webp\",\n",
    "    \"use\":\"用其光线照射就可以用来缩小物体的体积与重量，再照一次便能恢复原状。\",\n",
    "    \"limit\":\"有时间限制，若不持续照射，一段时间后便会恢复原状。\",\n",
    "    \"other\":\"\",\n",
    "    \"theory\":\"\",\n",
    "    \"reference\":[\n",
    "        \"https://doraemon.fandom.com/zh/wiki/%E7%B8%AE%E5%B0%8F%E7%87%88\",\n",
    "        \"https://bkimg.cdn.bcebos.com/pic/9922720e0cf3d7ca7bcbed04b347a9096b63f6240332?x-bce-process=image/format,f_auto/watermark,image_d2F0ZXIvYmFpa2UyNzI,g_7,xp_5,yp_5,P_20/resize,m_lfit,limit_1,h_1080\"\n",
    "    ]\n",
    "}\n",
    "save(MakeSmallerLight,\"MakeSmallerLight.json\")"
   ]
  },
  {
   "cell_type": "code",
   "execution_count": 16,
   "metadata": {},
   "outputs": [],
   "source": [
    "MakeLargerLight = {\n",
    "    \"name\":\"放大灯\",\n",
    "    \"image_path\":\"data/tools/content/make_bigger_light.webp\",\n",
    "    \"use\":\"用其光线照射就可以用来放大物体的体积与重量，再照一次便能恢复原状。\",\n",
    "    \"limit\":\"有时间限制，若不持续照射，一段时间后便会恢复原状。\",\n",
    "    \"other\":\"\",\n",
    "    \"theory\":\"\",\n",
    "    \"reference\":[\n",
    "        \"https://doraemon.fandom.com/zh/wiki/%E7%B8%AE%E5%B0%8F%E7%87%88\",\n",
    "        \"https://static.wikia.nocookie.net/doraemon/images/0/0b/Big.PNG/revision/latest?cb=20180411093431&path-prefix=zh-tw\"\n",
    "    ]\n",
    "}\n",
    "save(MakeLargerLight,\"MakeLargerLight.json\")"
   ]
  },
  {
   "cell_type": "code",
   "execution_count": 15,
   "metadata": {},
   "outputs": [],
   "source": [
    "MemoryBread = {\n",
    "    \"name\":\"记忆面包\",\n",
    "    \"image_path\":\"data/tools/content/memory_bread.webp\",\n",
    "    \"use\":\"只要将记忆面包放在书上，记忆面包就会印上书上的内容，吃了记忆面包后就能记下该页的内容。\",\n",
    "    \"limit\":\"一旦吃下的知识被拉出来(指上大号)，那么吃下的知识便会消失。\",\n",
    "    \"other\":\"\",\n",
    "    \"theory\":\"\",\n",
    "    \"reference\":[\n",
    "        \"https://doraemon.fandom.com/zh/wiki/%E8%A8%98%E6%86%B6%E5%90%90%E5%8F%B8\",\n",
    "        \"https://bkimg.cdn.bcebos.com/pic/d0c8a786c9177f3e6709ab0231972cc79f3df8dcf83e?x-bce-process=image/format,f_auto/watermark,image_d2F0ZXIvYmFpa2UyNzI,g_7,xp_5,yp_5,P_20/resize,m_lfit,limit_1,h_1080\"\n",
    "    ]\n",
    "}\n",
    "save(MemoryBread,\"MemoryBread.json\")"
   ]
  },
  {
   "cell_type": "code",
   "execution_count": 13,
   "metadata": {},
   "outputs": [],
   "source": [
    "AnywhereDoor = {\n",
    "    \"name\":\"任意门\",\n",
    "    \"image_path\":\"data/tools/content/anywhere_door.jpg\",\n",
    "    \"use\":\"使用者握住门把的同时，叙说或脑中想着要去的地方，这样任意门里的计算机便会启动搜索，门另一边就会将两地联结。打开之后就可跨越两地到目的地，但地点必须要“说明正确”才行，不然可能会到奇怪的地方。\",\n",
    "    \"limit\":\"距离限制是10光年；必须在一般时空下才能使用，在其他道具所创造出来的特殊时空中无法使用；只能通向其中的计算机写有该地理数据的地区；怕火烧；在人为武力干预因素下，任意门可能会变形；任意门有一副钥匙，弄丢的话可能会打不开。\",\n",
    "    \"other\":\"大雄有时会用任意门到静香的家玩，但由于静香常洗澡，大雄又没有指定去静香家的哪一间房间，常常弄错，门一开就见到尖叫中的静香对他泼水。\",\n",
    "    \"theory\":\"任意门首先将使用者想要去的地方由门把的传感器进行读取，传输到任意门的计算机里，然后利用空间坐标确定器从任意门里的世界地图和宇宙地图里面读取目的地，借由门框上下安装的空间翘曲装置进行翘曲空间，来实现两边的空间连接。\",\n",
    "    \"reference\":[\n",
    "        \"https://baike.baidu.com/item/%E9%9A%8F%E6%84%8F%E9%97%A8/2783513?lemmaFrom=lemma_starMap&fromModule=lemma_starMap&starNodeId=8a0f5539fd6403e5f74f8728&lemmaIdFrom=185384\",\n",
    "        \"https://doraemon.fandom.com/zh/wiki/%E4%BB%BB%E6%84%8F%E9%96%80\",\n",
    "        \"https://so1.360tres.com/t01f3446e4c49c05ddf.jpg\"\n",
    "    ]\n",
    "}\n",
    "save(AnywhereDoor,\"AnywhereDoor.json\")"
   ]
  },
  {
   "cell_type": "code",
   "execution_count": 14,
   "metadata": {},
   "outputs": [],
   "source": [
    "TimeMachine = {\n",
    "    \"name\":\"时光机\",\n",
    "    \"image_path\":\"data/tools/content/time_machine.webp\",\n",
    "    \"use\":\"能穿越时间和空间。使用时首先会经由入口进入时光隧道，再驾驶时光机穿梭到使用者指定的时间和地点。\",\n",
    "    \"limit\":\"\",\n",
    "    \"other\":\"入口载体可自由订制，例如：哆啦A梦选用的是大雄书桌抽屉，哆啦美选用的是房间的镜子。哆啦A梦的时光机是“毛毯”号，哆啦美的时光机是更高级的“郁金香”号。\",\n",
    "    \"theory\":\"\",\n",
    "    \"reference\":[\n",
    "        \"https://baike.baidu.com/item/%E6%97%B6%E5%85%89%E6%9C%BA/8055927?structureClickId=8055927&structureId=8a0f5539fd6403e5f74f8728&structureItemId=bef8f726031d3787bbb8634a&lemmaFrom=starMapContent_star&fromModule=starMap_content&lemmaIdFrom=185384\",\n",
    "        \"https://bkimg.cdn.bcebos.com/pic/e1fe9925bc315c603538cb6e88b1cb1348547785?x-bce-process=image/format,f_auto/watermark,image_d2F0ZXIvYmFpa2UyNzI,g_7,xp_5,yp_5,P_20/resize,m_lfit,limit_1,h_1080\"\n",
    "    ]\n",
    "}\n",
    "save(TimeMachine,\"TimeMachine.json\")"
   ]
  },
  {
   "cell_type": "code",
   "execution_count": null,
   "metadata": {},
   "outputs": [],
   "source": []
  },
  {
   "cell_type": "code",
   "execution_count": null,
   "metadata": {},
   "outputs": [],
   "source": []
  }
 ],
 "metadata": {
  "kernelspec": {
   "display_name": "download",
   "language": "python",
   "name": "python3"
  },
  "language_info": {
   "codemirror_mode": {
    "name": "ipython",
    "version": 3
   },
   "file_extension": ".py",
   "mimetype": "text/x-python",
   "name": "python",
   "nbconvert_exporter": "python",
   "pygments_lexer": "ipython3",
   "version": "3.10.14"
  }
 },
 "nbformat": 4,
 "nbformat_minor": 2
}
